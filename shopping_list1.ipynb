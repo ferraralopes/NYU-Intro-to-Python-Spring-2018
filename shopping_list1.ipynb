{
 "cells": [
  {
   "cell_type": "code",
   "execution_count": null,
   "metadata": {},
   "outputs": [
    {
     "name": "stdout",
     "output_type": "stream",
     "text": [
      "\n",
      "---------------------------------------\n",
      "Copyright Washington Ferrara-Lopes 2018\n",
      "---------------------------------------\n",
      ".\n",
      ".\n",
      "+++++++++++++++++++++++\n",
      "LET'S GO FOOD SHOPPING?\n",
      "+++++++++++++++++++++++\n",
      ".\n",
      ".\n",
      "----------------------\n",
      "[ Food Shopping List ]\n",
      "----------------------\n",
      "    1: Add item\n",
      "    2: Remove item\n",
      "    3: View List\n",
      "    0: Exit\n",
      "\n",
      "Choose an option:   3\n",
      "\n",
      " Here is your Food Shopping List:\n"
     ]
    }
   ],
   "source": [
    "# Final Project\n",
    "## Food Shopping list\n",
    "food_shopping_list = {}\n",
    "\n",
    "print(\"\"\"\n",
    "---------------------------------------\n",
    "Copyright Washington Ferrara-Lopes 2018\n",
    "---------------------------------------\n",
    ".\n",
    ".\n",
    "+++++++++++++++++++++++\n",
    "LET'S GO FOOD SHOPPING?\n",
    "+++++++++++++++++++++++\n",
    ".\n",
    ".\n",
    "----------------------\n",
    "[ Food Shopping List ]\n",
    "----------------------\n",
    "    1: Add item\n",
    "    2: Remove item\n",
    "    3: View List\n",
    "    0: Exit\n",
    "\"\"\")\n",
    "\n",
    "command = int(input(\"Choose an option:   \"))\n",
    "\n",
    "while command !=0:\n",
    "\n",
    "    if command == 1:\n",
    "        item = input(\"\\n What product would you like to purchase?  \")\n",
    "        units = int(input(\"\\n How many?   \"))\n",
    "        food_shopping_list[item] = units\n",
    "\n",
    "    elif command ==2:\n",
    "        item = input(\"\\n What product would you like to remove?  \")\n",
    "        del food_shopping_list[item]\n",
    "\n",
    "    elif command ==3:\n",
    "        print (\"\\n Here is your Food Shopping List:\")\n",
    "        for item in food_shopping_list:\n",
    "            print (item,\"=\",food_shopping_list[item])\n",
    "    elif command !=0:\n",
    "        print(\"\\n NOT A VALID OPTION!  \")\n",
    "\n",
    "    command = int(input(\"\\n Choose an another option:  \"))\n",
    "\n",
    "else:\n",
    "    print(\"Food Shopping List closed.\")"
   ]
  },
  {
   "cell_type": "code",
   "execution_count": null,
   "metadata": {},
   "outputs": [],
   "source": []
  }
 ],
 "metadata": {
  "kernelspec": {
   "display_name": "Python 3",
   "language": "python",
   "name": "python3"
  },
  "language_info": {
   "codemirror_mode": {
    "name": "ipython",
    "version": 3
   },
   "file_extension": ".py",
   "mimetype": "text/x-python",
   "name": "python",
   "nbconvert_exporter": "python",
   "pygments_lexer": "ipython3",
   "version": "3.6.0"
  }
 },
 "nbformat": 4,
 "nbformat_minor": 2
}
