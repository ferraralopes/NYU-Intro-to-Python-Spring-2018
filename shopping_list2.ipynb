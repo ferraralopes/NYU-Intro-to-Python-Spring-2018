{
 "cells": [
  {
   "cell_type": "code",
   "execution_count": 9,
   "metadata": {},
   "outputs": [
    {
     "name": "stdout",
     "output_type": "stream",
     "text": [
      "\n",
      "---------------------------------------\n",
      "Copyright Washington Ferrara-Lopes 2018\n",
      "---------------------------------------\n",
      ".\n",
      ".\n",
      "+++++++++++++++++++++++\n",
      "LET'S GO FOOD SHOPPING?\n",
      "+++++++++++++++++++++++\n",
      ".\n",
      ".\n",
      "What product would you like to purchase?\n",
      "Enter DONE to quit the porogram.\n",
      "\n",
      "> Eggs\n",
      "Your food shopping list has 1 items.\n",
      "> Soda\n",
      "Your food shopping list has 2 items.\n",
      "> Water\n",
      "Your food shopping list has 3 items.\n",
      "> Milk\n",
      "Your food shopping list has 4 items.\n",
      "> Dulce\n",
      "Your food shopping list has 5 items.\n",
      "> DONE\n",
      "     \n",
      "----------------------\n",
      "[ Food Shopping List ]\n",
      "----------------------       \n",
      "\n",
      "Eggs\n",
      "Soda\n",
      "Water\n",
      "Milk\n",
      "Dulce\n"
     ]
    }
   ],
   "source": [
    "food_shopping_list = list()\n",
    "\n",
    "print(\"\"\"\n",
    "---------------------------------------\n",
    "Copyright Washington Ferrara-Lopes 2018\n",
    "---------------------------------------\n",
    ".\n",
    ".\n",
    "+++++++++++++++++++++++\n",
    "LET'S GO FOOD SHOPPING?\n",
    "+++++++++++++++++++++++\n",
    ".\n",
    ".\n",
    "What product would you like to purchase?\n",
    "Enter DONE to quit the porogram.\n",
    "\"\"\")\n",
    "\n",
    "while True:\n",
    "\n",
    "      item = input(\"> \")\n",
    "      if item == 'DONE':\n",
    "            break\n",
    "      food_shopping_list.append(item)\n",
    "      print(\"Your food shopping list has {} items.\".format(len(food_shopping_list)))\n",
    "\n",
    "      continue\n",
    "\n",
    "print(\"\"\"     \n",
    "----------------------\n",
    "[ Food Shopping List ]\n",
    "----------------------       \n",
    "\"\"\")\n",
    "for item in food_shopping_list:\n",
    "      print(item)\n"
   ]
  },
  {
   "cell_type": "code",
   "execution_count": null,
   "metadata": {},
   "outputs": [],
   "source": []
  }
 ],
 "metadata": {
  "kernelspec": {
   "display_name": "Python 3",
   "language": "python",
   "name": "python3"
  },
  "language_info": {
   "codemirror_mode": {
    "name": "ipython",
    "version": 3
   },
   "file_extension": ".py",
   "mimetype": "text/x-python",
   "name": "python",
   "nbconvert_exporter": "python",
   "pygments_lexer": "ipython3",
   "version": "3.6.0"
  }
 },
 "nbformat": 4,
 "nbformat_minor": 2
}
